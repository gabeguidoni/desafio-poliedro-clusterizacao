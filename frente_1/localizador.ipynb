{
 "cells": [
  {
   "cell_type": "code",
   "execution_count": 8,
   "id": "4dd1ac53",
   "metadata": {},
   "outputs": [
    {
     "name": "stdout",
     "output_type": "stream",
     "text": [
      "Collecting geopy\n",
      "  Downloading geopy-2.4.1-py3-none-any.whl.metadata (6.8 kB)\n",
      "Collecting geographiclib<3,>=1.52 (from geopy)\n",
      "  Downloading geographiclib-2.1-py3-none-any.whl.metadata (1.6 kB)\n",
      "Downloading geopy-2.4.1-py3-none-any.whl (125 kB)\n",
      "   ---------------------------------------- 0.0/125.4 kB ? eta -:--:--\n",
      "   --- ------------------------------------ 10.2/125.4 kB ? eta -:--:--\n",
      "   --------- ----------------------------- 30.7/125.4 kB 660.6 kB/s eta 0:00:01\n",
      "   ---------------------------------------- 125.4/125.4 kB 1.2 MB/s eta 0:00:00\n",
      "Downloading geographiclib-2.1-py3-none-any.whl (40 kB)\n",
      "   ---------------------------------------- 0.0/40.7 kB ? eta -:--:--\n",
      "   ---------------------------------------- 40.7/40.7 kB 1.9 MB/s eta 0:00:00\n",
      "Installing collected packages: geographiclib, geopy\n",
      "Successfully installed geographiclib-2.1 geopy-2.4.1\n"
     ]
    },
    {
     "name": "stderr",
     "output_type": "stream",
     "text": [
      "\n",
      "[notice] A new release of pip is available: 24.0 -> 25.2\n",
      "[notice] To update, run: python.exe -m pip install --upgrade pip\n"
     ]
    }
   ],
   "source": [
    "!pip install geopy"
   ]
  },
  {
   "cell_type": "code",
   "execution_count": 10,
   "id": "b443d56a",
   "metadata": {},
   "outputs": [
    {
     "name": "stdout",
     "output_type": "stream",
     "text": [
      "Collecting tqdm\n",
      "  Downloading tqdm-4.67.1-py3-none-any.whl.metadata (57 kB)\n",
      "     ---------------------------------------- 0.0/57.7 kB ? eta -:--:--\n",
      "     ------------- ------------------------ 20.5/57.7 kB 217.9 kB/s eta 0:00:01\n",
      "     -------------------- ----------------- 30.7/57.7 kB 262.6 kB/s eta 0:00:01\n",
      "     --------------------------------- ---- 51.2/57.7 kB 375.8 kB/s eta 0:00:01\n",
      "     -------------------------------------- 57.7/57.7 kB 336.4 kB/s eta 0:00:00\n",
      "Requirement already satisfied: colorama in c:\\users\\jarde\\desktop\\git\\desafio-poliedro-clusterizacao\\.venv\\lib\\site-packages (from tqdm) (0.4.6)\n",
      "Downloading tqdm-4.67.1-py3-none-any.whl (78 kB)\n",
      "   ---------------------------------------- 0.0/78.5 kB ? eta -:--:--\n",
      "   ---------------------------------------- 78.5/78.5 kB 4.3 MB/s eta 0:00:00\n",
      "Installing collected packages: tqdm\n",
      "Successfully installed tqdm-4.67.1\n"
     ]
    },
    {
     "name": "stderr",
     "output_type": "stream",
     "text": [
      "\n",
      "[notice] A new release of pip is available: 24.0 -> 25.2\n",
      "[notice] To update, run: python.exe -m pip install --upgrade pip\n"
     ]
    }
   ],
   "source": [
    "!pip install tqdm"
   ]
  },
  {
   "cell_type": "code",
   "execution_count": 11,
   "id": "af9f3af6",
   "metadata": {},
   "outputs": [],
   "source": [
    "import numpy as np\n",
    "import pandas as pd\n",
    "from geopy.geocoders import Nominatim\n",
    "from tqdm import tqdm\n",
    "import time"
   ]
  },
  {
   "cell_type": "code",
   "execution_count": null,
   "id": "12075f4a",
   "metadata": {},
   "outputs": [
    {
     "name": "stderr",
     "output_type": "stream",
     "text": [
      "C:\\Users\\jarde\\AppData\\Local\\Temp\\ipykernel_11512\\955710992.py:1: DtypeWarning: Columns (32) have mixed types. Specify dtype option on import or set low_memory=False.\n",
      "  df = pd.read_csv(\"C:/Users/jarde/Desktop/git/desafio-poliedro-clusterizacao/dados/microdados_ed_basica_2024.csv\", sep =';', encoding='latin1')\n"
     ]
    }
   ],
   "source": [
    "# obs: trocar o nome do diretório\n",
    "df = pd.read_csv(\"C:/Users/jarde/Desktop/git/desafio-poliedro-clusterizacao/dados/microdados_ed_basica_2024.csv\", sep =';', encoding='latin1')"
   ]
  },
  {
   "cell_type": "code",
   "execution_count": null,
   "id": "555776db",
   "metadata": {},
   "outputs": [],
   "source": [
    "\n",
    "geolocator = Nominatim(user_agent=\"meu_buscador_de_ceps_123\") #agenta para mostraar o progresso\n"
   ]
  },
  {
   "cell_type": "code",
   "execution_count": null,
   "id": "3e08eca2",
   "metadata": {},
   "outputs": [],
   "source": [
    "#cria um dataset auxiliar com as escolas particulares\n",
    "df_alt = df[df[\"TP_DEPENDENCIA\"] == 4]"
   ]
  },
  {
   "cell_type": "code",
   "execution_count": null,
   "id": "25c9d232",
   "metadata": {},
   "outputs": [
    {
     "name": "stderr",
     "output_type": "stream",
     "text": [
      "C:\\Users\\jarde\\AppData\\Local\\Temp\\ipykernel_11512\\27412327.py:1: SettingWithCopyWarning: \n",
      "A value is trying to be set on a copy of a slice from a DataFrame.\n",
      "Try using .loc[row_indexer,col_indexer] = value instead\n",
      "\n",
      "See the caveats in the documentation: https://pandas.pydata.org/pandas-docs/stable/user_guide/indexing.html#returning-a-view-versus-a-copy\n",
      "  df_alt[\"LOCALIZACAO\"] = (\n"
     ]
    }
   ],
   "source": [
    "#\n",
    "df_alt[\"LOCALIZACAO\"] = (\n",
    "    df_alt[\"CO_CEP\"].astype(str) + \", \" +\n",
    "    df_alt[\"NO_MUNICIPIO\"] + \", \" +\n",
    "    df_alt[\"NO_UF\"] + \", Brasil\"\n",
    ")"
   ]
  },
  {
   "cell_type": "code",
   "execution_count": null,
   "id": "d5387df4",
   "metadata": {},
   "outputs": [
    {
     "name": "stdout",
     "output_type": "stream",
     "text": [
      "Total de linhas: 52568\n",
      "Consultas únicas: 37495\n",
      "Buscando coordenadas...\n"
     ]
    },
    {
     "name": "stderr",
     "output_type": "stream",
     "text": [
      "  0%|          | 39/37495 [01:12<19:04:45,  1.83s/it]"
     ]
    },
    {
     "name": "stdout",
     "output_type": "stream",
     "text": [
      "Erro em 76907438, Ji-Paraná, Rondônia, Brasil: Service timed out\n"
     ]
    },
    {
     "name": "stderr",
     "output_type": "stream",
     "text": [
      "  0%|          | 40/37495 [01:14<18:23:45,  1.77s/it]"
     ]
    },
    {
     "name": "stdout",
     "output_type": "stream",
     "text": [
      "Erro em 76908630, Ji-Paraná, Rondônia, Brasil: Service timed out\n"
     ]
    },
    {
     "name": "stderr",
     "output_type": "stream",
     "text": [
      "  0%|          | 113/37495 [03:35<16:47:23,  1.62s/it]"
     ]
    },
    {
     "name": "stdout",
     "output_type": "stream",
     "text": [
      "Erro em 76801098, Porto Velho, Rondônia, Brasil: Service timed out\n"
     ]
    },
    {
     "name": "stderr",
     "output_type": "stream",
     "text": [
      "  0%|          | 114/37495 [03:36<14:54:01,  1.43s/it]"
     ]
    },
    {
     "name": "stdout",
     "output_type": "stream",
     "text": [
      "Erro em 76841000, Porto Velho, Rondônia, Brasil: Service timed out\n"
     ]
    },
    {
     "name": "stderr",
     "output_type": "stream",
     "text": [
      "  0%|          | 119/37495 [03:44<16:14:28,  1.56s/it]"
     ]
    },
    {
     "name": "stdout",
     "output_type": "stream",
     "text": [
      "Erro em 76813612, Porto Velho, Rondônia, Brasil: Service timed out\n"
     ]
    },
    {
     "name": "stderr",
     "output_type": "stream",
     "text": [
      "  0%|          | 120/37495 [03:45<14:30:44,  1.40s/it]"
     ]
    },
    {
     "name": "stdout",
     "output_type": "stream",
     "text": [
      "Erro em 76812704, Porto Velho, Rondônia, Brasil: Service timed out\n"
     ]
    },
    {
     "name": "stderr",
     "output_type": "stream",
     "text": [
      "  0%|          | 122/37495 [03:48<14:29:00,  1.40s/it]"
     ]
    },
    {
     "name": "stdout",
     "output_type": "stream",
     "text": [
      "Erro em 76820351, Porto Velho, Rondônia, Brasil: Service timed out\n"
     ]
    },
    {
     "name": "stderr",
     "output_type": "stream",
     "text": [
      "  0%|          | 123/37495 [03:49<13:16:27,  1.28s/it]"
     ]
    },
    {
     "name": "stdout",
     "output_type": "stream",
     "text": [
      "Erro em 76820606, Porto Velho, Rondônia, Brasil: Service timed out\n"
     ]
    },
    {
     "name": "stderr",
     "output_type": "stream",
     "text": [
      "  0%|          | 124/37495 [03:51<13:26:27,  1.29s/it]"
     ]
    },
    {
     "name": "stdout",
     "output_type": "stream",
     "text": [
      "Erro em 76820202, Porto Velho, Rondônia, Brasil: Service timed out\n"
     ]
    },
    {
     "name": "stderr",
     "output_type": "stream",
     "text": [
      "  0%|          | 126/37495 [03:54<13:50:50,  1.33s/it]"
     ]
    },
    {
     "name": "stdout",
     "output_type": "stream",
     "text": [
      "Erro em 76801316, Porto Velho, Rondônia, Brasil: Service timed out\n"
     ]
    },
    {
     "name": "stderr",
     "output_type": "stream",
     "text": [
      "  0%|          | 129/37495 [03:59<16:52:58,  1.63s/it]"
     ]
    },
    {
     "name": "stdout",
     "output_type": "stream",
     "text": [
      "Erro em 76808300, Porto Velho, Rondônia, Brasil: Service timed out\n"
     ]
    },
    {
     "name": "stderr",
     "output_type": "stream",
     "text": [
      "  0%|          | 131/37495 [04:03<17:21:59,  1.67s/it]"
     ]
    },
    {
     "name": "stdout",
     "output_type": "stream",
     "text": [
      "Erro em 76804044, Porto Velho, Rondônia, Brasil: Service timed out\n"
     ]
    },
    {
     "name": "stderr",
     "output_type": "stream",
     "text": [
      "  0%|          | 133/37495 [04:06<16:32:33,  1.59s/it]"
     ]
    },
    {
     "name": "stdout",
     "output_type": "stream",
     "text": [
      "Erro em 76940000, Rolim de Moura, Rondônia, Brasil: Service timed out\n"
     ]
    },
    {
     "name": "stderr",
     "output_type": "stream",
     "text": [
      "  0%|          | 136/37495 [04:12<18:19:34,  1.77s/it]"
     ]
    },
    {
     "name": "stdout",
     "output_type": "stream",
     "text": [
      "Erro em 76980172, Vilhena, Rondônia, Brasil: Service timed out\n"
     ]
    },
    {
     "name": "stderr",
     "output_type": "stream",
     "text": [
      "  0%|          | 137/37495 [04:13<16:50:10,  1.62s/it]"
     ]
    },
    {
     "name": "stdout",
     "output_type": "stream",
     "text": [
      "Erro em 76982044, Vilhena, Rondônia, Brasil: Service timed out\n"
     ]
    },
    {
     "name": "stderr",
     "output_type": "stream",
     "text": [
      "  0%|          | 138/37495 [04:15<16:31:21,  1.59s/it]"
     ]
    },
    {
     "name": "stdout",
     "output_type": "stream",
     "text": [
      "Erro em 76987037, Vilhena, Rondônia, Brasil: Service timed out\n"
     ]
    },
    {
     "name": "stderr",
     "output_type": "stream",
     "text": [
      "  0%|          | 139/37495 [04:16<14:42:26,  1.42s/it]"
     ]
    },
    {
     "name": "stdout",
     "output_type": "stream",
     "text": [
      "Erro em 76981320, Vilhena, Rondônia, Brasil: Service timed out\n"
     ]
    },
    {
     "name": "stderr",
     "output_type": "stream",
     "text": [
      "  0%|          | 140/37495 [04:17<14:17:51,  1.38s/it]"
     ]
    },
    {
     "name": "stdout",
     "output_type": "stream",
     "text": [
      "Erro em 76980788, Vilhena, Rondônia, Brasil: Service timed out\n"
     ]
    },
    {
     "name": "stderr",
     "output_type": "stream",
     "text": [
      "  0%|          | 141/37495 [04:18<13:09:08,  1.27s/it]"
     ]
    },
    {
     "name": "stdout",
     "output_type": "stream",
     "text": [
      "Erro em 76981084, Vilhena, Rondônia, Brasil: Service timed out\n"
     ]
    },
    {
     "name": "stderr",
     "output_type": "stream",
     "text": [
      "  0%|          | 142/37495 [04:19<12:23:37,  1.19s/it]"
     ]
    },
    {
     "name": "stdout",
     "output_type": "stream",
     "text": [
      "Erro em 76980794, Vilhena, Rondônia, Brasil: Service timed out\n"
     ]
    },
    {
     "name": "stderr",
     "output_type": "stream",
     "text": [
      "  0%|          | 143/37495 [04:20<11:49:21,  1.14s/it]"
     ]
    },
    {
     "name": "stdout",
     "output_type": "stream",
     "text": [
      "Erro em 76980887, Vilhena, Rondônia, Brasil: Service timed out\n"
     ]
    },
    {
     "name": "stderr",
     "output_type": "stream",
     "text": [
      "  0%|          | 145/37495 [04:23<13:00:29,  1.25s/it]"
     ]
    },
    {
     "name": "stdout",
     "output_type": "stream",
     "text": [
      "Erro em 76980178, Vilhena, Rondônia, Brasil: Service timed out\n"
     ]
    },
    {
     "name": "stderr",
     "output_type": "stream",
     "text": [
      "  0%|          | 147/37495 [04:27<17:57:02,  1.73s/it]"
     ]
    },
    {
     "name": "stdout",
     "output_type": "stream",
     "text": [
      "Erro em 76857000, Nova Mamoré, Rondônia, Brasil: Service timed out\n"
     ]
    },
    {
     "name": "stderr",
     "output_type": "stream",
     "text": [
      "  0%|          | 148/37495 [04:28<15:42:55,  1.51s/it]"
     ]
    },
    {
     "name": "stdout",
     "output_type": "stream",
     "text": [
      "Erro em 76930000, Alvorada D'Oeste, Rondônia, Brasil: Service timed out\n"
     ]
    },
    {
     "name": "stderr",
     "output_type": "stream",
     "text": [
      "  0%|          | 149/37495 [04:29<14:09:04,  1.36s/it]"
     ]
    },
    {
     "name": "stdout",
     "output_type": "stream",
     "text": [
      "Erro em 76952000, Alto Alegre dos Parecis, Rondônia, Brasil: Service timed out\n"
     ]
    },
    {
     "name": "stderr",
     "output_type": "stream",
     "text": [
      "  0%|          | 151/37495 [04:32<14:46:47,  1.42s/it]"
     ]
    },
    {
     "name": "stdout",
     "output_type": "stream",
     "text": [
      "Erro em 76880000, Buritis, Rondônia, Brasil: Service timed out\n"
     ]
    },
    {
     "name": "stderr",
     "output_type": "stream",
     "text": [
      "  0%|          | 152/37495 [04:33<13:29:58,  1.30s/it]"
     ]
    },
    {
     "name": "stdout",
     "output_type": "stream",
     "text": [
      "Erro em 76956000, Novo Horizonte do Oeste, Rondônia, Brasil: Service timed out\n"
     ]
    },
    {
     "name": "stderr",
     "output_type": "stream",
     "text": [
      "  0%|          | 153/37495 [04:34<12:34:53,  1.21s/it]"
     ]
    },
    {
     "name": "stdout",
     "output_type": "stream",
     "text": [
      "Erro em 76860000, Candeias do Jamari, Rondônia, Brasil: Service timed out\n"
     ]
    },
    {
     "name": "stderr",
     "output_type": "stream",
     "text": [
      "  0%|          | 154/37495 [04:35<11:55:52,  1.15s/it]"
     ]
    },
    {
     "name": "stdout",
     "output_type": "stream",
     "text": [
      "Erro em 76864000, Cujubim, Rondônia, Brasil: Service timed out\n"
     ]
    },
    {
     "name": "stderr",
     "output_type": "stream",
     "text": [
      "  0%|          | 155/37495 [04:36<11:28:49,  1.11s/it]"
     ]
    },
    {
     "name": "stdout",
     "output_type": "stream",
     "text": [
      "Erro em 76861000, Itapuã do Oeste, Rondônia, Brasil: Service timed out\n"
     ]
    },
    {
     "name": "stderr",
     "output_type": "stream",
     "text": [
      "  0%|          | 156/37495 [04:37<11:10:45,  1.08s/it]"
     ]
    },
    {
     "name": "stdout",
     "output_type": "stream",
     "text": [
      "Erro em 76926000, Mirante da Serra, Rondônia, Brasil: Service timed out\n"
     ]
    },
    {
     "name": "stderr",
     "output_type": "stream",
     "text": [
      "  0%|          | 157/37495 [04:38<10:59:56,  1.06s/it]"
     ]
    },
    {
     "name": "stdout",
     "output_type": "stream",
     "text": [
      "Erro em 76888000, Monte Negro, Rondônia, Brasil: Service timed out\n"
     ]
    },
    {
     "name": "stderr",
     "output_type": "stream",
     "text": [
      "  0%|          | 158/37495 [04:39<10:50:41,  1.05s/it]"
     ]
    },
    {
     "name": "stdout",
     "output_type": "stream",
     "text": [
      "Erro em 76935000, São Francisco do Guaporé, Rondônia, Brasil: Service timed out\n"
     ]
    },
    {
     "name": "stderr",
     "output_type": "stream",
     "text": [
      "  0%|          | 159/37495 [04:40<10:43:46,  1.03s/it]"
     ]
    },
    {
     "name": "stdout",
     "output_type": "stream",
     "text": [
      "Erro em 76934000, Seringueiras, Rondônia, Brasil: Service timed out\n"
     ]
    },
    {
     "name": "stderr",
     "output_type": "stream",
     "text": [
      "  0%|          | 160/37495 [04:41<10:38:42,  1.03s/it]"
     ]
    },
    {
     "name": "stdout",
     "output_type": "stream",
     "text": [
      "Erro em 76929000, Urupá, Rondônia, Brasil: Service timed out\n"
     ]
    },
    {
     "name": "stderr",
     "output_type": "stream",
     "text": [
      "  0%|          | 161/37495 [04:43<10:35:06,  1.02s/it]"
     ]
    },
    {
     "name": "stdout",
     "output_type": "stream",
     "text": [
      "Erro em 76867000, Vale do Anari, Rondônia, Brasil: Service timed out\n"
     ]
    },
    {
     "name": "stderr",
     "output_type": "stream",
     "text": [
      "  0%|          | 162/37495 [04:44<10:32:50,  1.02s/it]"
     ]
    },
    {
     "name": "stdout",
     "output_type": "stream",
     "text": [
      "Erro em 76923000, Vale do Paraíso, Rondônia, Brasil: Service timed out\n"
     ]
    },
    {
     "name": "stderr",
     "output_type": "stream",
     "text": [
      "  0%|          | 163/37495 [04:45<11:16:59,  1.09s/it]"
     ]
    },
    {
     "name": "stdout",
     "output_type": "stream",
     "text": [
      "Erro em 69932000, Brasiléia, Acre, Brasil: Service timed out\n"
     ]
    },
    {
     "name": "stderr",
     "output_type": "stream",
     "text": [
      "  0%|          | 164/37495 [04:46<11:01:36,  1.06s/it]"
     ]
    },
    {
     "name": "stdout",
     "output_type": "stream",
     "text": [
      "Erro em 69980000, Cruzeiro do Sul, Acre, Brasil: Service timed out\n"
     ]
    },
    {
     "name": "stderr",
     "output_type": "stream",
     "text": [
      "  0%|          | 165/37495 [04:47<10:51:13,  1.05s/it]"
     ]
    },
    {
     "name": "stdout",
     "output_type": "stream",
     "text": [
      "Erro em 69960000, Feijó, Acre, Brasil: Service timed out\n"
     ]
    },
    {
     "name": "stderr",
     "output_type": "stream",
     "text": [
      "  0%|          | 166/37495 [04:48<10:44:37,  1.04s/it]"
     ]
    },
    {
     "name": "stdout",
     "output_type": "stream",
     "text": [
      "Erro em 69990000, Mâncio Lima, Acre, Brasil: Service timed out\n"
     ]
    },
    {
     "name": "stderr",
     "output_type": "stream",
     "text": [
      "  0%|          | 167/37495 [04:49<10:43:06,  1.03s/it]"
     ]
    },
    {
     "name": "stdout",
     "output_type": "stream",
     "text": [
      "Erro em 69928000, Plácido de Castro, Acre, Brasil: Service timed out\n"
     ]
    },
    {
     "name": "stderr",
     "output_type": "stream",
     "text": [
      "  0%|          | 168/37495 [04:50<10:39:19,  1.03s/it]"
     ]
    },
    {
     "name": "stdout",
     "output_type": "stream",
     "text": [
      "Erro em 69915168, Rio Branco, Acre, Brasil: Service timed out\n"
     ]
    },
    {
     "name": "stderr",
     "output_type": "stream",
     "text": [
      "  0%|          | 169/37495 [04:51<10:36:35,  1.02s/it]"
     ]
    },
    {
     "name": "stdout",
     "output_type": "stream",
     "text": [
      "Erro em 69915178, Rio Branco, Acre, Brasil: Service timed out\n"
     ]
    },
    {
     "name": "stderr",
     "output_type": "stream",
     "text": [
      "  0%|          | 170/37495 [04:52<10:34:13,  1.02s/it]"
     ]
    },
    {
     "name": "stdout",
     "output_type": "stream",
     "text": [
      "Erro em 69919018, Rio Branco, Acre, Brasil: Service timed out\n"
     ]
    },
    {
     "name": "stderr",
     "output_type": "stream",
     "text": [
      "  0%|          | 171/37495 [04:53<10:32:32,  1.02s/it]"
     ]
    },
    {
     "name": "stdout",
     "output_type": "stream",
     "text": [
      "Erro em 69918044, Rio Branco, Acre, Brasil: Service timed out\n"
     ]
    },
    {
     "name": "stderr",
     "output_type": "stream",
     "text": [
      "  0%|          | 172/37495 [04:54<10:31:24,  1.02s/it]"
     ]
    },
    {
     "name": "stdout",
     "output_type": "stream",
     "text": [
      "Erro em 69900607, Rio Branco, Acre, Brasil: Service timed out\n"
     ]
    },
    {
     "name": "stderr",
     "output_type": "stream",
     "text": [
      "  0%|          | 173/37495 [04:55<10:29:20,  1.01s/it]"
     ]
    },
    {
     "name": "stdout",
     "output_type": "stream",
     "text": [
      "Erro em 69918888, Rio Branco, Acre, Brasil: Service timed out\n"
     ]
    },
    {
     "name": "stderr",
     "output_type": "stream",
     "text": [
      "  0%|          | 174/37495 [04:56<10:29:05,  1.01s/it]"
     ]
    },
    {
     "name": "stdout",
     "output_type": "stream",
     "text": [
      "Erro em 69918046, Rio Branco, Acre, Brasil: Service timed out\n"
     ]
    },
    {
     "name": "stderr",
     "output_type": "stream",
     "text": [
      "  0%|          | 175/37495 [04:57<10:30:53,  1.01s/it]"
     ]
    },
    {
     "name": "stdout",
     "output_type": "stream",
     "text": [
      "Erro em 69919015, Rio Branco, Acre, Brasil: Service timed out\n"
     ]
    },
    {
     "name": "stderr",
     "output_type": "stream",
     "text": [
      "  0%|          | 176/37495 [04:58<10:30:31,  1.01s/it]"
     ]
    },
    {
     "name": "stdout",
     "output_type": "stream",
     "text": [
      "Erro em 69915901, Rio Branco, Acre, Brasil: Service timed out\n"
     ]
    },
    {
     "name": "stderr",
     "output_type": "stream",
     "text": [
      "  0%|          | 177/37495 [04:59<11:16:56,  1.09s/it]"
     ]
    },
    {
     "name": "stdout",
     "output_type": "stream",
     "text": [
      "Erro em 69905524, Rio Branco, Acre, Brasil: Service timed out\n"
     ]
    },
    {
     "name": "stderr",
     "output_type": "stream",
     "text": [
      "  0%|          | 178/37495 [05:00<11:02:29,  1.07s/it]"
     ]
    },
    {
     "name": "stdout",
     "output_type": "stream",
     "text": [
      "Erro em 69900848, Rio Branco, Acre, Brasil: Service timed out\n"
     ]
    },
    {
     "name": "stderr",
     "output_type": "stream",
     "text": [
      "  0%|          | 187/37495 [05:19<20:08:43,  1.94s/it]"
     ]
    },
    {
     "name": "stdout",
     "output_type": "stream",
     "text": [
      "Erro em 69920223, Rio Branco, Acre, Brasil: Service timed out\n"
     ]
    },
    {
     "name": "stderr",
     "output_type": "stream",
     "text": [
      "  1%|          | 188/37495 [05:20<18:57:18,  1.83s/it]"
     ]
    },
    {
     "name": "stdout",
     "output_type": "stream",
     "text": [
      "Erro em 69914312, Rio Branco, Acre, Brasil: Service timed out\n"
     ]
    },
    {
     "name": "stderr",
     "output_type": "stream",
     "text": [
      "  1%|          | 191/37495 [05:26<17:29:09,  1.69s/it]"
     ]
    },
    {
     "name": "stdout",
     "output_type": "stream",
     "text": [
      "Erro em 69900878, Rio Branco, Acre, Brasil: Service timed out\n"
     ]
    },
    {
     "name": "stderr",
     "output_type": "stream",
     "text": [
      "  1%|          | 197/37495 [05:38<18:56:04,  1.83s/it]"
     ]
    },
    {
     "name": "stdout",
     "output_type": "stream",
     "text": [
      "Erro em 69918464, Rio Branco, Acre, Brasil: Service timed out\n"
     ]
    },
    {
     "name": "stderr",
     "output_type": "stream",
     "text": [
      "  1%|          | 198/37495 [05:39<17:24:19,  1.68s/it]"
     ]
    },
    {
     "name": "stdout",
     "output_type": "stream",
     "text": [
      "Erro em 69925000, Senador Guiomard, Acre, Brasil: Service timed out\n"
     ]
    },
    {
     "name": "stderr",
     "output_type": "stream",
     "text": [
      "  1%|          | 202/37495 [05:46<16:30:53,  1.59s/it]"
     ]
    },
    {
     "name": "stdout",
     "output_type": "stream",
     "text": [
      "Erro em 69195000, Boa Vista do Ramos, Amazonas, Brasil: Service timed out\n"
     ]
    },
    {
     "name": "stderr",
     "output_type": "stream",
     "text": [
      "  1%|          | 209/37495 [05:59<18:26:54,  1.78s/it]"
     ]
    },
    {
     "name": "stdout",
     "output_type": "stream",
     "text": [
      "Erro em 69800000, Humaitá, Amazonas, Brasil: Service timed out\n"
     ]
    },
    {
     "name": "stderr",
     "output_type": "stream",
     "text": [
      "  1%|          | 322/37495 [09:32<19:35:23,  1.90s/it]"
     ]
    }
   ],
   "source": [
    "locais_unicos = df_alt[\"LOCALIZACAO\"].dropna().unique()\n",
    "\n",
    "print(f\"Total de linhas: {len(df_alt)}\")\n",
    "print(f\"Consultas únicas: {len(locais_unicos)}\")\n",
    "\n",
    "\n",
    "local_to_coords = {}\n",
    "\n",
    "print(\"Buscando coordenadas...\")\n",
    "for loc in tqdm(locais_unicos):\n",
    "    try:\n",
    "        location = geolocator.geocode(loc)\n",
    "        if location:\n",
    "            local_to_coords[loc] = (location.latitude, location.longitude)\n",
    "        else:\n",
    "            local_to_coords[loc] = (None, None)\n",
    "\n",
    "        time.sleep(1)\n",
    "\n",
    "    except Exception as e:\n",
    "        print(f\"Erro em {loc}: {e}\")\n",
    "        local_to_coords[loc] = (None, None)\n",
    "\n",
    "df_alt['Latitude'] = df_alt['LOCALIZACAO'].map(lambda x: local_to_coords.get(x, (None, None))[0])\n",
    "df_alt['Longitude'] = df_alt['LOCALIZACAO'].map(lambda x: local_to_coords.get(x, (None, None))[1])\n",
    "\n",
    "\n",
    "df_alt.to_csv(\"ceps_com_coordenadas.csv\", index=False)\n",
    "print(\"Arquivo salvo: ceps_com_coordenadas.csv\")"
   ]
  },
  {
   "cell_type": "code",
   "execution_count": null,
   "id": "8afa1c10",
   "metadata": {},
   "outputs": [],
   "source": [
    "caminho_para_salvar = 'C:/Users/jarde/Desktop/git/desafio-poliedro-clusterizacao/dados'  #trocar o nome do diretório\n",
    "df_alt.to_csv(caminho_para_salvar, index=False, encoding='utf-8-sig')"
   ]
  }
 ],
 "metadata": {
  "kernelspec": {
   "display_name": ".venv (3.12.2)",
   "language": "python",
   "name": "python3"
  },
  "language_info": {
   "codemirror_mode": {
    "name": "ipython",
    "version": 3
   },
   "file_extension": ".py",
   "mimetype": "text/x-python",
   "name": "python",
   "nbconvert_exporter": "python",
   "pygments_lexer": "ipython3",
   "version": "3.12.2"
  }
 },
 "nbformat": 4,
 "nbformat_minor": 5
}
