{
 "cells": [
  {
   "cell_type": "code",
   "execution_count": 1,
   "id": "7af553a3",
   "metadata": {},
   "outputs": [],
   "source": [
    "import pandas as pd\n",
    "import os"
   ]
  },
  {
   "cell_type": "code",
   "execution_count": 2,
   "id": "68000d4f",
   "metadata": {},
   "outputs": [
    {
     "name": "stdout",
     "output_type": "stream",
     "text": [
      "(215545, 426)\n"
     ]
    }
   ],
   "source": [
    "BASE_DIR = os.getcwd()\n",
    "BASE_DIR = os.path.dirname(BASE_DIR)  # sobe 1 nível\n",
    "# BASE_DIR = os.path.dirname(os.path.dirname(BASE_DIR))  # sobe 2 níveis\n",
    "# monta caminho relativo para o CSV\n",
    "csv_path = os.path.join(BASE_DIR, \"dados\", \"microdados_censo_escolar_2024\", \"dados\", \"microdados_ed_basica_2024.csv\")\n",
    "df = pd.read_csv(csv_path, encoding=\"latin1\", delimiter=\";\", low_memory=False)\n",
    "print(df.shape)\n",
    "\n"
   ]
  },
  {
   "cell_type": "code",
   "execution_count": 3,
   "metadata": {},
   "outputs": [
    {
     "name": "stdout",
     "output_type": "stream",
     "text": [
      "(52568, 426)\n",
      "(43218, 426)\n",
      "(38289, 426)\n",
      "(37517, 426)\n",
      "(36270, 426)\n",
      "(33730, 427)\n",
      "(32306, 427)\n"
     ]
    }
   ],
   "source": [
    "# FILTRO DE LINHAS\n",
    "\n",
    "# 1. Escolas Privadas\n",
    "df = df[df[\"TP_DEPENDENCIA\"] == 4]\n",
    "print(df.shape)\n",
    "\n",
    "# 2. Em atividade\n",
    "df = df[df[\"TP_SITUACAO_FUNCIONAMENTO\"] == 1]\n",
    "print(df.shape)\n",
    "\n",
    "# 3. Excluindo Creches\n",
    "cond_creche_pura = (\n",
    "    (df[\"IN_INF_CRE\"] == 1) &\n",
    "    (df[\"IN_INF_PRE\"] == 0) &\n",
    "    (df[\"IN_FUND\"] == 0) &\n",
    "    (df[\"IN_MED\"] == 0)\n",
    ")\n",
    "df = df[~cond_creche_pura]\n",
    "print(df.shape)\n",
    "\n",
    "# 4. Exlcuindo APAEs\n",
    "df = df[~df[\"NO_ENTIDADE\"].str.contains(\"APAE\", case=False, na=False)]\n",
    "print(df.shape)\n",
    "\n",
    "# 5. Excluindo Sistema S: SENAI, SENAC, SESI\n",
    "sistema_s = [\"SESI\", \"SENAI\", \"SENAC\", \"SENAR\", \"SESC\"]\n",
    "df = df[~df[\"NO_ENTIDADE\"].str.contains(\"|\".join(sistema_s), case=False, na=False)]\n",
    "print(df.shape)\n",
    "\n",
    "# 6. Excluir escolas sem matrícula\n",
    "# Soma das matrículas\n",
    "df[\"QT_MAT_TOTAL\"] = df[[\"QT_MAT_INF\", \"QT_MAT_FUND\", \"QT_MAT_MED\"]].sum(axis=1, skipna=True)\n",
    "cond_sem_matricula = (\n",
    "    df[[\"QT_MAT_INF\", \"QT_MAT_FUND\", \"QT_MAT_MED\"]].isna().all(axis=1)\n",
    ") | (df[\"QT_MAT_TOTAL\"] == 0)\n",
    "df = df[~cond_sem_matricula]\n",
    "print(df.shape)\n",
    "\n",
    "# 7. Remove Ensino Tecnico EJA\n",
    "df = df[df[\"IN_EJA\"] != 1]\n",
    "df = df[df[\"IN_PROF\"] != 1]\n",
    "print(df.shape)"
   ]
  },
  {
   "cell_type": "code",
   "execution_count": 4,
   "id": "7052cd93",
   "metadata": {},
   "outputs": [],
   "source": [
    "# Add coluna de Cálculo de Receita Estimada\n",
    "\n",
    "# Garantir que colunas são numéricas\n",
    "cols = [\"QT_MAT_INF\", \"QT_MAT_FUND_AI\", \"QT_MAT_FUND_AF\", \"QT_MAT_MED_PROP\"]\n",
    "for c in cols:\n",
    "    df[c] = pd.to_numeric(df[c], errors=\"coerce\")  # converte para número, NaN se não conseguir\n",
    "\n",
    "# Valores médios por matrícula\n",
    "valores = {\n",
    "    \"EI\": 562.51,\n",
    "    \"EFAI\": 1041.11,\n",
    "    \"EFAF\": 1742.36,\n",
    "    \"EM\": 2058.12\n",
    "}\n",
    "\n",
    "# Criar colunas de receita por segmento\n",
    "df[\"REC_INF\"] = df[\"QT_MAT_INF\"] * valores[\"EI\"]\n",
    "df[\"REC_FUNDAI\"] = df[\"QT_MAT_FUND_AI\"] * valores[\"EFAI\"]\n",
    "df[\"REC_FUNDAF\"] = df[\"QT_MAT_FUND_AF\"] * valores[\"EFAF\"]\n",
    "df[\"REC_EM\"] = df[\"QT_MAT_MED_PROP\"] * valores[\"EM\"]\n",
    "\n",
    "# Receita total por escola\n",
    "df[\"REC_TOTAL\"] = (\n",
    "    df[\"REC_INF\"] +\n",
    "    df[\"REC_FUNDAI\"] +\n",
    "    df[\"REC_FUNDAF\"] +\n",
    "    df[\"REC_EM\"]\n",
    ")\n",
    "\n",
    "save_path = os.path.join(BASE_DIR, \"dados\", \"escolas_filtradas.csv\")\n",
    "df.to_csv(save_path, sep=\";\", index=False, encoding=\"utf-8-sig\", float_format=\"%.2f\")"
   ]
  },
  {
   "cell_type": "code",
   "execution_count": null,
   "id": "fe5c14c9",
   "metadata": {},
   "outputs": [
    {
     "name": "stdout",
     "output_type": "stream",
     "text": [
      "Merge concluído!\n",
      "Formato do novo dataset (linhas, colunas): (32306, 434)\n",
      "\n",
      "Visualização do dataset final:\n",
      "   NU_ANO_CENSO NO_REGIAO  CO_REGIAO     NO_UF SG_UF  CO_UF NO_MUNICIPIO  \\\n",
      "0          2024     Norte          1  Rondônia    RO     11    Ariquemes   \n",
      "1          2024     Norte          1  Rondônia    RO     11    Ariquemes   \n",
      "2          2024     Norte          1  Rondônia    RO     11    Ariquemes   \n",
      "3          2024     Norte          1  Rondônia    RO     11    Ariquemes   \n",
      "4          2024     Norte          1  Rondônia    RO     11    Ariquemes   \n",
      "\n",
      "   CO_MUNICIPIO NO_REGIAO_GEOG_INTERM  CO_REGIAO_GEOG_INTERM  ...  \\\n",
      "0       1100023           Porto Velho                   1101  ...   \n",
      "1       1100023           Porto Velho                   1101  ...   \n",
      "2       1100023           Porto Velho                   1101  ...   \n",
      "3       1100023           Porto Velho                   1101  ...   \n",
      "4       1100023           Porto Velho                   1101  ...   \n",
      "\n",
      "  QT_TUR_FUND_AF_INT  QT_TUR_MED_INT QT_MAT_TOTAL    REC_INF REC_FUNDAI  \\\n",
      "0                0.0             0.0        497.0   63563.63  245701.96   \n",
      "1                0.0             0.0        309.0  173815.59       0.00   \n",
      "2                0.0             0.0        645.0   63563.63  224879.76   \n",
      "3                0.0             0.0        308.0  173253.08       0.00   \n",
      "4                0.0             0.0        806.0  100126.78  357100.73   \n",
      "\n",
      "   REC_FUNDAF     REC_EM  REC_TOTAL Latitude  Longitude  \n",
      "0   257869.28       0.00  567134.87 -9.93953 -63.014513  \n",
      "1        0.00       0.00  173815.59 -9.93953 -63.014513  \n",
      "2   275292.88  325182.96  888919.23 -9.93953 -63.014513  \n",
      "3        0.00       0.00  173253.08 -9.93953 -63.014513  \n",
      "4   496572.60       0.00  953800.11 -9.93953 -63.014513  \n",
      "\n",
      "[5 rows x 434 columns]\n"
     ]
    }
   ],
   "source": [
    "# Adiconar colunas de coordenadas geográficas de cada escola\n",
    "df_coordenadas = pd.read_csv('coordenadas.csv')\n",
    "\n",
    "# 3. Fazer o merge\n",
    "df = pd.merge(\n",
    "    df,\n",
    "    df_coordenadas,\n",
    "    left_on='CO_CEP',\n",
    "    right_on='CO_CEP',\n",
    "    how='left'\n",
    ")\n",
    "\n",
    "# Salvar o novo dataset em um novo CSV\n",
    "df.to_csv(save_path, sep=\";\", index=False, encoding=\"utf-8-sig\", float_format=\"%.2f\")\n"
   ]
  }
 ],
 "metadata": {
  "kernelspec": {
   "display_name": ".venv (3.12.2)",
   "language": "python",
   "name": "python3"
  },
  "language_info": {
   "codemirror_mode": {
    "name": "ipython",
    "version": 3
   },
   "file_extension": ".py",
   "mimetype": "text/x-python",
   "name": "python",
   "nbconvert_exporter": "python",
   "pygments_lexer": "ipython3",
   "version": "3.12.2"
  }
 },
 "nbformat": 4,
 "nbformat_minor": 5
}
